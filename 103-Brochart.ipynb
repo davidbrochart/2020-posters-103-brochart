{
 "cells": [
  {
   "cell_type": "markdown",
   "metadata": {},
   "source": [
    "# **xarray-leaflet: big geo-data visualization in the Jupyter Notebook**\n",
    "\n",
    "<img src=\"xarray.png\" alt=\"drawing\" width=\"300\"/> <img src=\"leaflet.png\" alt=\"drawing\" width=\"300\"/> <img src=\"jupyter.png\" alt=\"drawing\" width=\"100\"/>\n",
    "\n",
    "## https://github.com/davidbrochart/xarray_leaflet\n",
    "\n",
    "## David Brochart\n",
    "\n",
    "<img src=\"quantstack.svg\" alt=\"drawing\" width=\"130\"/>\n",
    "\n",
    "## QuantStack"
   ]
  },
  {
   "cell_type": "code",
   "execution_count": null,
   "metadata": {},
   "outputs": [],
   "source": [
    "import matplotlib.pyplot as plt\n",
    "import os\n",
    "import requests\n",
    "from tqdm import tqdm\n",
    "import zipfile\n",
    "import rioxarray\n",
    "import numpy as np"
   ]
  },
  {
   "cell_type": "markdown",
   "metadata": {},
   "source": [
    "# dataset: river flow accumulation for South America (USGS - Hydrosheds)"
   ]
  },
  {
   "cell_type": "code",
   "execution_count": null,
   "metadata": {},
   "outputs": [],
   "source": [
    "url = 'https://edcintl.cr.usgs.gov/downloads/sciweb1/shared/hydrosheds/sa_30s_zip_grid/sa_acc_30s_grid.zip'\n",
    "filename = os.path.basename(url)\n",
    "name = filename[:filename.find('_grid')]\n",
    "adffile = os.path.join(name, name, 'w001001.adf')\n",
    "\n",
    "if not os.path.exists(adffile):\n",
    "    r = requests.get(url, stream=True)\n",
    "    with open(filename, 'wb') as f:\n",
    "        total_length = int(r.headers.get('content-length'))\n",
    "        for chunk in tqdm(r.iter_content(chunk_size=1024), total=(total_length/1024) + 1):\n",
    "            if chunk:\n",
    "                f.write(chunk)\n",
    "                f.flush()\n",
    "    zip = zipfile.ZipFile(filename)\n",
    "    zip.extractall('.')"
   ]
  },
  {
   "cell_type": "code",
   "execution_count": null,
   "metadata": {},
   "outputs": [],
   "source": [
    "da = rioxarray.open_rasterio(adffile, masked=True)\n",
    "da"
   ]
  },
  {
   "cell_type": "markdown",
   "metadata": {},
   "source": [
    "# matplotlib"
   ]
  },
  {
   "cell_type": "code",
   "execution_count": null,
   "metadata": {},
   "outputs": [],
   "source": [
    "da = da.rio.write_nodata(np.nan)\n",
    "da = da.sel(band=1)\n",
    "da1 = np.sqrt(da)\n",
    "da1.plot.imshow()"
   ]
  },
  {
   "cell_type": "markdown",
   "metadata": {},
   "source": [
    "## ipympl: interactive matplotlib"
   ]
  },
  {
   "cell_type": "code",
   "execution_count": null,
   "metadata": {},
   "outputs": [],
   "source": [
    "%matplotlib widget"
   ]
  },
  {
   "cell_type": "code",
   "execution_count": null,
   "metadata": {},
   "outputs": [],
   "source": [
    "da1.plot.imshow()"
   ]
  },
  {
   "cell_type": "markdown",
   "metadata": {},
   "source": [
    "# xarray-leaflet"
   ]
  },
  {
   "cell_type": "code",
   "execution_count": null,
   "metadata": {},
   "outputs": [],
   "source": [
    "from xarray_leaflet.transform import passthrough, normalize\n",
    "from ipyleaflet import Map, basemaps\n",
    "from rasterio.warp import Resampling\n",
    "import warnings\n",
    "import xarray as xr\n",
    "import scipy.ndimage"
   ]
  },
  {
   "cell_type": "markdown",
   "metadata": {},
   "source": [
    "## Data pipeline: transformation functions"
   ]
  },
  {
   "cell_type": "code",
   "execution_count": null,
   "metadata": {},
   "outputs": [],
   "source": [
    "transform0 = normalize\n",
    "transform1 = passthrough"
   ]
  },
  {
   "cell_type": "code",
   "execution_count": null,
   "metadata": {},
   "outputs": [],
   "source": [
    "def transform2(array, *args, **kwargs):\n",
    "    tile_width = kwargs['tile_width']\n",
    "    tile_height = kwargs['tile_height']\n",
    "    ny, nx = array.shape\n",
    "    wx = nx // (tile_width // 2)\n",
    "    wy = ny // (tile_height // 2)\n",
    "    dim = {}\n",
    "    if wx > 1:\n",
    "        dim['x'] = wx\n",
    "    if wy > 1:\n",
    "        dim['y'] = wy\n",
    "    array = array.coarsen(**dim, boundary='pad')\n",
    "    with warnings.catch_warnings():\n",
    "        warnings.simplefilter(\"ignore\", category=RuntimeWarning)\n",
    "        array = xr.core.rolling.DataArrayCoarsen.max(array)\n",
    "    return array"
   ]
  },
  {
   "cell_type": "code",
   "execution_count": null,
   "metadata": {},
   "outputs": [],
   "source": [
    "def transform3(array):\n",
    "    radius = 2\n",
    "    circle = np.zeros((2*radius+1, 2*radius+1)).astype('uint8')\n",
    "    y, x = np.ogrid[-radius:radius+1,-radius:radius+1]\n",
    "    index = x**2 + y**2 <= radius**2\n",
    "    circle[index] = 1\n",
    "    with warnings.catch_warnings():\n",
    "        warnings.simplefilter(\"ignore\", category=RuntimeWarning)\n",
    "        array = np.sqrt(array)\n",
    "    array = scipy.ndimage.maximum_filter(array, footprint=circle)\n",
    "    return array"
   ]
  },
  {
   "cell_type": "code",
   "execution_count": null,
   "metadata": {},
   "outputs": [],
   "source": [
    "m = Map(center=[-20, -60], zoom=3, basemap=basemaps.CartoDB.DarkMatter, interpolation='nearest')\n",
    "m"
   ]
  },
  {
   "cell_type": "code",
   "execution_count": null,
   "metadata": {},
   "outputs": [],
   "source": [
    "l = da.leaflet.plot(m,\n",
    "                    transform0=transform0,\n",
    "                    transform1=transform1,\n",
    "                    transform2=transform2,\n",
    "                    transform3=transform3,\n",
    "                    resampling=Resampling.max)\n",
    "l.interact(opacity=(0.0, 1.0))"
   ]
  },
  {
   "cell_type": "markdown",
   "metadata": {},
   "source": [
    "# Dynamic map"
   ]
  },
  {
   "cell_type": "code",
   "execution_count": null,
   "metadata": {},
   "outputs": [],
   "source": [
    "transform0 = passthrough\n",
    "transform1 = normalize"
   ]
  },
  {
   "cell_type": "code",
   "execution_count": null,
   "metadata": {},
   "outputs": [],
   "source": [
    "m = Map(center=[-20, -60], zoom=3, basemap=basemaps.CartoDB.DarkMatter, interpolation='nearest')\n",
    "m"
   ]
  },
  {
   "cell_type": "code",
   "execution_count": null,
   "metadata": {},
   "outputs": [],
   "source": [
    "l = da.leaflet.plot(m,\n",
    "                    transform0=transform0,\n",
    "                    transform1=transform1,\n",
    "                    transform2=transform2,\n",
    "                    transform3=transform3,\n",
    "                    dynamic=True,\n",
    "                    resampling=Resampling.max)\n",
    "l.interact(opacity=(0.0,1.0,0.1))"
   ]
  },
  {
   "cell_type": "markdown",
   "metadata": {},
   "source": [
    "# https://github.com/davidbrochart/xarray_leaflet"
   ]
  }
 ],
 "metadata": {
  "kernelspec": {
   "display_name": "Python 3",
   "language": "python",
   "name": "python3"
  },
  "language_info": {
   "codemirror_mode": {
    "name": "ipython",
    "version": 3
   },
   "file_extension": ".py",
   "mimetype": "text/x-python",
   "name": "python",
   "nbconvert_exporter": "python",
   "pygments_lexer": "ipython3",
   "version": "3.8.5"
  }
 },
 "nbformat": 4,
 "nbformat_minor": 4
}
